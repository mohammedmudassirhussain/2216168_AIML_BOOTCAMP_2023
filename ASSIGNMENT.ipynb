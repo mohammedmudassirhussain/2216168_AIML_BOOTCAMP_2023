{
  "nbformat": 4,
  "nbformat_minor": 0,
  "metadata": {
    "colab": {
      "provenance": [],
      "authorship_tag": "ABX9TyMDutX04irKMuWW7seW4Osx",
      "include_colab_link": true
    },
    "kernelspec": {
      "name": "python3",
      "display_name": "Python 3"
    },
    "language_info": {
      "name": "python"
    }
  },
  "cells": [
    {
      "cell_type": "markdown",
      "metadata": {
        "id": "view-in-github",
        "colab_type": "text"
      },
      "source": [
        "<a href=\"https://colab.research.google.com/github/mohammedmudassirhussain/2216168_AIML_BOOTCAMP_2023/blob/main/ASSIGNMENT.ipynb\" target=\"_parent\"><img src=\"https://colab.research.google.com/assets/colab-badge.svg\" alt=\"Open In Colab\"/></a>"
      ]
    },
    {
      "cell_type": "code",
      "source": [
        "#1\n",
        "a=int(input(\"enter a number\"))\n",
        "print(a)\n",
        "b=str(input(\"enter a string\"))\n",
        "print(b)\n",
        "\n",
        "#strings indexing\n",
        "str=\"Gradstellar\"\n",
        "print(str[0:-1])\n",
        "print(str[-1])\n",
        "\n",
        "#slicing\n",
        "print(str[0:7:2])\n",
        "#reverse\n",
        "print(str[::-1])\n",
        "#string methods\n",
        "my_str=\"iam a topper\"\n",
        "print(my_str.upper())\n",
        "print(my_str.lower())\n",
        "dir(str)\n",
        "print(my_str.swapcase())\n",
        "print(my_str.lstrip())\n",
        "\n",
        "\n",
        "#string operations\n",
        "str1=\"hello\"\n",
        "str2=\"world\"\n",
        "print(str1+str2)\n",
        "print(str1*2)\n",
        "\n",
        "#string formats\n",
        "name=\"mudassir\"\n",
        "language=\"python\"\n",
        "year=2023\n",
        "print(name,\"is teaching\",language,\"programming in\",year)\n",
        "#place holder\n",
        "print(\"%s is teaching %s  in %d\"%(name,language,year))\n",
        "#raw string\n",
        "print(f\"{name} is teaching {language} programing in{year}\")"
      ],
      "metadata": {
        "colab": {
          "base_uri": "https://localhost:8080/"
        },
        "id": "zwPOKlTiEI7i",
        "outputId": "54e1b6fb-f7be-4d0e-8958-4610a144b2f5"
      },
      "execution_count": 2,
      "outputs": [
        {
          "output_type": "stream",
          "name": "stdout",
          "text": [
            "enter a number1\n",
            "1\n",
            "enter a stringmudassir\n",
            "mudassir\n",
            "Gradstella\n",
            "r\n",
            "Gase\n",
            "ralletsdarG\n",
            "IAM A TOPPER\n",
            "iam a topper\n",
            "IAM A TOPPER\n",
            "iam a topper\n",
            "helloworld\n",
            "hellohello\n",
            "mudassir is teaching python programming in 2023\n",
            "mudassir is teaching python  in 2023\n",
            "mudassir is teaching python programing in2023\n"
          ]
        }
      ]
    },
    {
      "cell_type": "code",
      "source": [
        "#6\n",
        "m=711\n",
        "print(bin(m))\n",
        "\n",
        "print(hex(m))\n",
        "\n",
        "print(oct(m))"
      ],
      "metadata": {
        "colab": {
          "base_uri": "https://localhost:8080/"
        },
        "id": "D7jQjyxnEJDc",
        "outputId": "472621e6-410e-4d44-eb2a-793568fea644"
      },
      "execution_count": 3,
      "outputs": [
        {
          "output_type": "stream",
          "name": "stdout",
          "text": [
            "0b1011000111\n",
            "0x2c7\n",
            "0o1307\n"
          ]
        }
      ]
    },
    {
      "cell_type": "code",
      "source": [
        "#4\n",
        "#dictionaries\n",
        "\n",
        "my_dict={\"name\":\"gradstellar\",101:\"english\"}\n",
        "print(my_dict[\"name\"])\n",
        "print(my_dict.keys())\n",
        "print(my_dict.keys())\n",
        "print(my_dict.values())\n",
        "print(my_dict.get(\"name\"))\n",
        "print(my_dict.get(101))"
      ],
      "metadata": {
        "colab": {
          "base_uri": "https://localhost:8080/"
        },
        "id": "WIU99TqcEJHl",
        "outputId": "693e4767-832b-4b61-8a46-1313b6f28dc3"
      },
      "execution_count": 4,
      "outputs": [
        {
          "output_type": "stream",
          "name": "stdout",
          "text": [
            "gradstellar\n",
            "dict_keys(['name', 101])\n",
            "dict_keys(['name', 101])\n",
            "dict_values(['gradstellar', 'english'])\n",
            "gradstellar\n",
            "english\n"
          ]
        }
      ]
    },
    {
      "cell_type": "code",
      "source": [
        "\n",
        "#5\n",
        "#sets\n",
        "my_set={1,2,3,4,5,6,7}\n",
        "my_set1={1,7.0,\"mudassir\"}\n",
        "\n",
        "l=[1,2,3,4,5,6,7]\n",
        "print(l)\n",
        "my_set2=set(l)\n",
        "print(my_set2)\n",
        "\n",
        "\n",
        "\n",
        "#set methods\n",
        "my_set.add(9)\n",
        "print(my_set)\n",
        "my_set.update([11,13])\n",
        "print(my_set)\n",
        "my_set.discard(9)\n",
        "print(my_set)\n",
        "my_set.remove(5)\n",
        "print(my_set)\n",
        "\n",
        "\n",
        "#set operations\n",
        "#union\n",
        "a={1,2,3,4,5,6,7,8,9}\n",
        "b={4,5,6,1,2,3}\n",
        "print(a|b)\n",
        "print(a.union(b))\n",
        "print(b.union(a))\n",
        "#intersection\n",
        "print(a&b)\n",
        "print(a.intersection(b))\n",
        "print(b.intersection(a))\n",
        "#difference\n",
        "print(a-b)\n",
        "print(a.difference(b))\n",
        "print(b-a)\n",
        "print(b.difference(a))"
      ],
      "metadata": {
        "colab": {
          "base_uri": "https://localhost:8080/"
        },
        "id": "SG5wYnx3EJKb",
        "outputId": "57a0d379-2723-4740-cb7c-14087bf28761"
      },
      "execution_count": 5,
      "outputs": [
        {
          "output_type": "stream",
          "name": "stdout",
          "text": [
            "[1, 2, 3, 4, 5, 6, 7]\n",
            "{1, 2, 3, 4, 5, 6, 7}\n",
            "{1, 2, 3, 4, 5, 6, 7, 9}\n",
            "{1, 2, 3, 4, 5, 6, 7, 9, 11, 13}\n",
            "{1, 2, 3, 4, 5, 6, 7, 11, 13}\n",
            "{1, 2, 3, 4, 6, 7, 11, 13}\n",
            "{1, 2, 3, 4, 5, 6, 7, 8, 9}\n",
            "{1, 2, 3, 4, 5, 6, 7, 8, 9}\n",
            "{1, 2, 3, 4, 5, 6, 7, 8, 9}\n",
            "{1, 2, 3, 4, 5, 6}\n",
            "{1, 2, 3, 4, 5, 6}\n",
            "{1, 2, 3, 4, 5, 6}\n",
            "{8, 9, 7}\n",
            "{8, 9, 7}\n",
            "set()\n",
            "set()\n"
          ]
        }
      ]
    },
    {
      "cell_type": "code",
      "source": [
        "#2\n",
        "#lists\n",
        "my_list=[1,2,3,4,5,6,7]\n",
        "my_list1=[1,\"mudassir\",\"3.0\"]\n",
        "my_list3=[\"apple\",\"banana\",\"cherry\"]\n",
        "str=\"Gradstellar\"\n",
        "\n",
        "# indexing\n",
        "print(my_list[-2])\n",
        "print(my_list[-1])\n",
        "#slicing in lists\n",
        "print(my_list[:3])\n",
        "print(str[0:7:2])\n",
        "\n",
        "\n",
        "#reverse\n",
        "print(str[::-1])\n",
        "#nested lists\n",
        "n_list=[\"dragonfruit\",my_list,my_list[1]]\n",
        "print(n_list[0][0:12])\n",
        "print(n_list[0][0:-2])\n",
        "\n",
        "\n",
        "#list method\n",
        "my_list.append(5)\n",
        "print(my_list)\n",
        "l1=[4,2,5,9,7,3,24,49,6,4,4,9]\n",
        "print(l1.count(4))\n",
        "print(len(l1))\n",
        "l1.reverse\n",
        "print(l1)\n",
        "l1.sort\n",
        "print(l1)\n",
        "\n",
        "\n",
        "#address\n",
        "print(id(l1))\n",
        "print(id(my_list))\n"
      ],
      "metadata": {
        "colab": {
          "base_uri": "https://localhost:8080/"
        },
        "id": "d_-zOOGeEJNI",
        "outputId": "1d138831-46c1-4e2c-e60f-1918c6780421"
      },
      "execution_count": 6,
      "outputs": [
        {
          "output_type": "stream",
          "name": "stdout",
          "text": [
            "6\n",
            "7\n",
            "[1, 2, 3]\n",
            "Gase\n",
            "ralletsdarG\n",
            "dragonfruit\n",
            "dragonfru\n",
            "[1, 2, 3, 4, 5, 6, 7, 5]\n",
            "3\n",
            "12\n",
            "[4, 2, 5, 9, 7, 3, 24, 49, 6, 4, 4, 9]\n",
            "[4, 2, 5, 9, 7, 3, 24, 49, 6, 4, 4, 9]\n",
            "140367044895360\n",
            "140367008563968\n"
          ]
        }
      ]
    },
    {
      "cell_type": "code",
      "source": [
        "#4\n",
        "my_tup=(1,2,3,4,5)\n",
        "my_tup1=(\"hii\",7.0,7)\n",
        "n_tup=(\"HELLO\",my_tup,my_tup1)\n",
        "print(n_tup[-1][-1])\n",
        "\n",
        "\n",
        "#Tuple Methods\n",
        "print(my_tup.count(2))\n",
        "print(my_tup.index(2))\n",
        "\n",
        "print(max(my_tup))\n",
        "print(min(my_tup))\n",
        "print(len(my_tup))"
      ],
      "metadata": {
        "colab": {
          "base_uri": "https://localhost:8080/"
        },
        "id": "vIs7E_m7EJRJ",
        "outputId": "fa151470-02e5-4c17-effe-b762e03e16eb"
      },
      "execution_count": 7,
      "outputs": [
        {
          "output_type": "stream",
          "name": "stdout",
          "text": [
            "7\n",
            "1\n",
            "1\n",
            "5\n",
            "1\n",
            "5\n"
          ]
        }
      ]
    },
    {
      "cell_type": "code",
      "source": [
        "\n",
        "#7\n",
        "#arithmetic operators\n",
        "a=10\n",
        "b=5\n",
        "print(a+b)\n",
        "print(a-b)\n",
        "print(a*b)\n",
        "print(a/b)\n",
        "print(a//b)\n",
        "print(a**b)\n",
        "print(a&b)"
      ],
      "metadata": {
        "colab": {
          "base_uri": "https://localhost:8080/"
        },
        "id": "s4MNSh-LEJmW",
        "outputId": "a313f3c5-8f7f-4bdc-a576-06dc42942184"
      },
      "execution_count": 1,
      "outputs": [
        {
          "output_type": "stream",
          "name": "stdout",
          "text": [
            "15\n",
            "5\n",
            "50\n",
            "2.0\n",
            "2\n",
            "100000\n",
            "0\n"
          ]
        }
      ]
    },
    {
      "cell_type": "code",
      "source": [
        "#8\n",
        "#assignment operators\n",
        "a=10\n",
        "b=5\n",
        "c=a+b\n",
        "print(c)\n",
        "c-=a\n",
        "print(c)\n",
        "c=+b\n",
        "print(c)\n"
      ],
      "metadata": {
        "colab": {
          "base_uri": "https://localhost:8080/"
        },
        "id": "NeWKXKOrHfRk",
        "outputId": "b984c491-d6dc-4f82-8b07-4ea859ef96c5"
      },
      "execution_count": null,
      "outputs": [
        {
          "output_type": "stream",
          "name": "stdout",
          "text": [
            "15\n",
            "5\n",
            "5\n"
          ]
        }
      ]
    },
    {
      "cell_type": "code",
      "source": [
        "#9\n",
        "#comparision operators\n",
        "a=10\n",
        "b=5\n",
        "print(a==b)\n",
        "print(a<=b)\n",
        "print(a>=b)\n",
        "print(a<<b)\n",
        "print(a>>b)\n",
        "print(a!=b)"
      ],
      "metadata": {
        "colab": {
          "base_uri": "https://localhost:8080/"
        },
        "id": "wx_j8cW8DjwR",
        "outputId": "b8b14ea0-822b-410c-a2c4-cac7436f4257"
      },
      "execution_count": null,
      "outputs": [
        {
          "output_type": "stream",
          "name": "stdout",
          "text": [
            "False\n",
            "False\n",
            "True\n",
            "320\n",
            "0\n",
            "True\n"
          ]
        }
      ]
    },
    {
      "cell_type": "code",
      "source": [
        "#10\n",
        "#logical operators\n",
        "x=\"true\"\n",
        "y=\"false\"\n",
        "print(\"x and y is:\",x and y)\n",
        "print(\"x or y is:\",x or y)\n",
        "print(\"x not y is:\", not y)"
      ],
      "metadata": {
        "colab": {
          "base_uri": "https://localhost:8080/"
        },
        "id": "NmontG4lDjyq",
        "outputId": "7df83ff6-9253-4131-a5f9-e3c70f86faff"
      },
      "execution_count": null,
      "outputs": [
        {
          "output_type": "stream",
          "name": "stdout",
          "text": [
            "x and y is: false\n",
            "x or y is: true\n",
            "x not y is: False\n"
          ]
        }
      ]
    },
    {
      "cell_type": "code",
      "source": [
        "#11\n",
        "#bitwise operators\n",
        "a=10\n",
        "b=15\n",
        "print(a&b)#and\n",
        "print(a|b)#or\n",
        "print(-a)#not\n",
        "print(a^b)#xor\n",
        "print(a>>3)#right shift\n",
        "#print(a<<b)#leftshift\n",
        "\n",
        "\n",
        "\n"
      ],
      "metadata": {
        "colab": {
          "base_uri": "https://localhost:8080/"
        },
        "id": "4kckCrc8RgwO",
        "outputId": "4420573f-f6a6-4e3c-912f-df7060996087"
      },
      "execution_count": null,
      "outputs": [
        {
          "output_type": "stream",
          "name": "stdout",
          "text": [
            "10\n",
            "15\n",
            "-10\n",
            "5\n",
            "1\n"
          ]
        }
      ]
    },
    {
      "cell_type": "code",
      "source": [
        "#12\n",
        "#membership operators\n",
        "x=\"hello worls\"\n",
        "print(\"w\"in x)\n",
        "print(\"a\"in x)"
      ],
      "metadata": {
        "colab": {
          "base_uri": "https://localhost:8080/"
        },
        "id": "QY5T84UbDj1C",
        "outputId": "d1719de2-0f3c-4076-af9e-24f4e8aa7955"
      },
      "execution_count": null,
      "outputs": [
        {
          "output_type": "stream",
          "name": "stdout",
          "text": [
            "True\n",
            "False\n"
          ]
        }
      ]
    },
    {
      "cell_type": "code",
      "source": [
        "#13\n",
        "#identity operators\n",
        "x1=5\n",
        "y1=10\n",
        "x2=\"hello\"\n",
        "y2=\"world\"\n",
        "x3=[1,2,3]\n",
        "y3=[1,2,3]\n",
        "print(x1 is not y1)\n",
        "\n",
        "print(x3 is not y3)\n",
        "\n",
        "print(x3 is  y3)"
      ],
      "metadata": {
        "colab": {
          "base_uri": "https://localhost:8080/"
        },
        "id": "aYd9ByQEDj8G",
        "outputId": "09b75d07-5167-451c-f820-c785c6de089f"
      },
      "execution_count": null,
      "outputs": [
        {
          "output_type": "stream",
          "name": "stdout",
          "text": [
            "True\n",
            "True\n",
            "False\n"
          ]
        }
      ]
    },
    {
      "cell_type": "code",
      "source": [
        "#14\n",
        "#negative indexing and slicing of lists\n",
        "a=['apple','banana','orange','cherry','mango','custard apple']\n",
        "print(a[0])#using index\n",
        "print(a[5])\n",
        "print(a[-1])\n",
        "print(a[-2])\n",
        "print(a[2:5])#from 2 nd index\n",
        "print(a[-1:-5])\n",
        "print(a[-5:-2])\n",
        "print(a[:4])\n",
        "print(a[0:4])"
      ],
      "metadata": {
        "colab": {
          "base_uri": "https://localhost:8080/"
        },
        "id": "5j-paRklIgR8",
        "outputId": "2157392e-5cfa-45e5-82bd-22d55154f96a"
      },
      "execution_count": null,
      "outputs": [
        {
          "output_type": "stream",
          "name": "stdout",
          "text": [
            "apple\n",
            "custard apple\n",
            "custard apple\n",
            "mango\n",
            "['orange', 'cherry', 'mango']\n",
            "[]\n",
            "['banana', 'orange', 'cherry']\n",
            "['apple', 'banana', 'orange', 'cherry']\n",
            "['apple', 'banana', 'orange', 'cherry']\n"
          ]
        }
      ]
    },
    {
      "cell_type": "code",
      "source": [
        "#gives ascii values\n",
        "x=str(input(\"enter\"))\n",
        "print(ord(x))"
      ],
      "metadata": {
        "colab": {
          "base_uri": "https://localhost:8080/"
        },
        "id": "lRFvxg0UDkF3",
        "outputId": "cbaaa207-a1df-4873-da8c-fd9d6d210aac"
      },
      "execution_count": null,
      "outputs": [
        {
          "output_type": "stream",
          "name": "stdout",
          "text": [
            "entera\n",
            "97\n"
          ]
        }
      ]
    },
    {
      "cell_type": "code",
      "source": [
        "#15\n",
        "print(\"A series of character designated as one object known as a string\"[::-1][4::3])\n",
        "print(\"-----------\")\n",
        "print(\"welcome to python training program\"[3:10][::-1])"
      ],
      "metadata": {
        "colab": {
          "base_uri": "https://localhost:8080/"
        },
        "id": "4GncskijIzPV",
        "outputId": "aec9cf87-d499-42df-e796-abe81f9ca947"
      },
      "execution_count": null,
      "outputs": [
        {
          "output_type": "stream",
          "name": "stdout",
          "text": [
            "taawkcbe  tgerca  is\n",
            "-----------\n",
            "ot emoc\n"
          ]
        }
      ]
    },
    {
      "cell_type": "code",
      "source": [
        "\n",
        "#16\n",
        "p_phrase=\"was it a car or a cat i saw\"\n",
        "print(p_phrase.upper()[::-1])\n"
      ],
      "metadata": {
        "colab": {
          "base_uri": "https://localhost:8080/"
        },
        "id": "6a3LKZEDEKrA",
        "outputId": "98b05b85-da5b-4926-c76e-f6df675b82bc"
      },
      "execution_count": null,
      "outputs": [
        {
          "output_type": "stream",
          "name": "stdout",
          "text": [
            "WAS I TAC A RO RAC A TI SAW\n"
          ]
        }
      ]
    },
    {
      "cell_type": "code",
      "source": [
        "#17\n",
        "x=int(input(\"\"))\n",
        "y=2*x\n",
        "print(x*'z'+y*'o')"
      ],
      "metadata": {
        "colab": {
          "base_uri": "https://localhost:8080/"
        },
        "id": "8x6ixzcXEK4n",
        "outputId": "37e50f89-8df5-43eb-da65-f23d3614bd1f"
      },
      "execution_count": null,
      "outputs": [
        {
          "output_type": "stream",
          "name": "stdout",
          "text": [
            "5\n",
            "zzzzzoooooooooo\n"
          ]
        }
      ]
    }
  ]
}