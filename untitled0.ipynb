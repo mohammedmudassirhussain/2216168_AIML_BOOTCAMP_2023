{
  "nbformat": 4,
  "nbformat_minor": 0,
  "metadata": {
    "colab": {
      "provenance": [],
      "authorship_tag": "ABX9TyPqF1hHZ9+39uerwaWCoZ3A",
      "include_colab_link": true
    },
    "kernelspec": {
      "name": "python3",
      "display_name": "Python 3"
    },
    "language_info": {
      "name": "python"
    }
  },
  "cells": [
    {
      "cell_type": "markdown",
      "metadata": {
        "id": "view-in-github",
        "colab_type": "text"
      },
      "source": [
        "<a href=\"https://colab.research.google.com/github/mohammedmudassirhussain/2216168_AIML_BOOTCAMP_2023/blob/main/untitled0.ipynb\" target=\"_parent\"><img src=\"https://colab.research.google.com/assets/colab-badge.svg\" alt=\"Open In Colab\"/></a>"
      ]
    },
    {
      "cell_type": "code",
      "execution_count": null,
      "metadata": {
        "id": "BSLd6rlYUcm1"
      },
      "outputs": [],
      "source": []
    },
    {
      "cell_type": "code",
      "source": [
        "a=int(input(\"enter a number\"))\n",
        "print(a)\n",
        "b=str(input(\"enter a string\"))\n",
        "print(b)"
      ],
      "metadata": {
        "colab": {
          "base_uri": "https://localhost:8080/"
        },
        "outputId": "61e2f148-5edc-4976-f4be-dfc74c2f4ff9",
        "id": "Ij7F0wxvUSAz"
      },
      "execution_count": null,
      "outputs": [
        {
          "output_type": "stream",
          "name": "stdout",
          "text": [
            "enter a number2\n",
            "2\n",
            "enter a stringmudassir\n",
            "mudassir\n"
          ]
        }
      ]
    },
    {
      "cell_type": "code",
      "source": [
        "#strings indexing\n",
        "str=\"Gradstellar\"\n",
        "print(str[0:-1])\n",
        "print(str[-1])\n",
        "#slicing\n",
        "print(str[0:7:2])\n",
        "#reverse\n",
        "print(str[::-1])\n",
        "#string methods\n",
        "my_str=\"iam a topper\"\n",
        "print(my_str.upper())\n",
        "print(my_str.lower())\n",
        "dir(str)\n",
        "print(my_str.swapcase())\n",
        "print(my_str.lstrip())\n",
        "#string operations\n",
        "str1=\"hello\"\n",
        "str2=\"world\"\n",
        "print(str1+str2)\n",
        "print(str1*2)\n",
        "#string formats\n",
        "name=\"mudassir\"\n",
        "language=\"python\"\n",
        "year=2023\n",
        "print(name,\"is teaching\",language,\"programming in\",year)\n",
        "#place holder\n",
        "print(\"%s is teaching %s  in %d\"%(name,language,year))\n",
        "#raw string\n",
        "print(f\"{name} is teaching {language} programing in{year}\")\n"
      ],
      "metadata": {
        "id": "YsfbtYegXD0k",
        "colab": {
          "base_uri": "https://localhost:8080/"
        },
        "outputId": "53c6aa6a-d662-459d-b9ab-003bbb6c7954"
      },
      "execution_count": 1,
      "outputs": [
        {
          "output_type": "stream",
          "name": "stdout",
          "text": [
            "Gradstella\n",
            "r\n",
            "Gase\n",
            "ralletsdarG\n",
            "IAM A TOPPER\n",
            "iam a topper\n",
            "IAM A TOPPER\n",
            "iam a topper\n",
            "helloworld\n",
            "hellohello\n",
            "mudassir is teaching python programming in 2023\n",
            "mudassir is teaching python  in 2023\n",
            "mudassir is teaching python programing in2023\n"
          ]
        }
      ]
    }
  ]
}