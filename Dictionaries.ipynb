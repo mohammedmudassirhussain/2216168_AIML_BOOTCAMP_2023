{
  "nbformat": 4,
  "nbformat_minor": 0,
  "metadata": {
    "colab": {
      "provenance": [],
      "authorship_tag": "ABX9TyPT0iafBYQqHzMMFokwf3lr",
      "include_colab_link": true
    },
    "kernelspec": {
      "name": "python3",
      "display_name": "Python 3"
    },
    "language_info": {
      "name": "python"
    }
  },
  "cells": [
    {
      "cell_type": "markdown",
      "metadata": {
        "id": "view-in-github",
        "colab_type": "text"
      },
      "source": [
        "<a href=\"https://colab.research.google.com/github/mohammedmudassirhussain/2216168_AIML_BOOTCAMP_2023/blob/main/Dictionaries.ipynb\" target=\"_parent\"><img src=\"https://colab.research.google.com/assets/colab-badge.svg\" alt=\"Open In Colab\"/></a>"
      ]
    },
    {
      "cell_type": "code",
      "execution_count": 1,
      "metadata": {
        "colab": {
          "base_uri": "https://localhost:8080/"
        },
        "id": "xHtXf-WDBkCX",
        "outputId": "3e6c8e20-ea43-4115-cb8a-281b44832a26"
      },
      "outputs": [
        {
          "output_type": "stream",
          "name": "stdout",
          "text": [
            "gradstellar\n",
            "dict_keys(['name', 101])\n",
            "dict_keys(['name', 101])\n",
            "dict_values(['gradstellar', 'english'])\n",
            "gradstellar\n",
            "english\n"
          ]
        }
      ],
      "source": [
        "\n",
        "#dictionaries\n",
        "\n",
        "my_dict={\"name\":\"gradstellar\",101:\"english\"}\n",
        "print(my_dict[\"name\"])\n",
        "print(my_dict.keys())\n",
        "print(my_dict.keys())\n",
        "print(my_dict.values())\n",
        "print(my_dict.get(\"name\"))\n",
        "print(my_dict.get(101))"
      ]
    }
  ]
}