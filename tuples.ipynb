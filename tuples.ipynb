{
  "nbformat": 4,
  "nbformat_minor": 0,
  "metadata": {
    "colab": {
      "provenance": [],
      "authorship_tag": "ABX9TyMZI6E5+UPtUGd0rUGOpUc9",
      "include_colab_link": true
    },
    "kernelspec": {
      "name": "python3",
      "display_name": "Python 3"
    },
    "language_info": {
      "name": "python"
    }
  },
  "cells": [
    {
      "cell_type": "markdown",
      "metadata": {
        "id": "view-in-github",
        "colab_type": "text"
      },
      "source": [
        "<a href=\"https://colab.research.google.com/github/mohammedmudassirhussain/2216168_AIML_BOOTCAMP_2023/blob/main/tuples.ipynb\" target=\"_parent\"><img src=\"https://colab.research.google.com/assets/colab-badge.svg\" alt=\"Open In Colab\"/></a>"
      ]
    },
    {
      "cell_type": "code",
      "execution_count": 1,
      "metadata": {
        "colab": {
          "base_uri": "https://localhost:8080/"
        },
        "id": "rF6-398DBGaY",
        "outputId": "51d9188a-a6fd-4de7-e47f-7241cd91e221"
      },
      "outputs": [
        {
          "output_type": "stream",
          "name": "stdout",
          "text": [
            "7\n"
          ]
        }
      ],
      "source": [
        "my_tup=(1,2,3,4,5)\n",
        "my_tup1=(\"hii\",7.0,7)\n",
        "n_tup=(\"HELLO\",my_tup,my_tup1)\n",
        "print(n_tup[-1][-1])"
      ]
    },
    {
      "cell_type": "code",
      "source": [
        "#Tuple Methods\n",
        "print(my_tup.count(2))\n",
        "print(my_tup.index(2))\n",
        "\n",
        "print(max(my_tup))\n",
        "print(min(my_tup))\n",
        "print(len(my_tup))"
      ],
      "metadata": {
        "colab": {
          "base_uri": "https://localhost:8080/"
        },
        "id": "6iiKsW5qBIHl",
        "outputId": "328aee36-309f-4ee6-dd06-3a6443f0e2da"
      },
      "execution_count": 2,
      "outputs": [
        {
          "output_type": "stream",
          "name": "stdout",
          "text": [
            "1\n",
            "1\n",
            "5\n",
            "1\n",
            "5\n"
          ]
        }
      ]
    }
  ]
}