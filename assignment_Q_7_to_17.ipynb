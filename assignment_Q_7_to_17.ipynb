{
  "nbformat": 4,
  "nbformat_minor": 0,
  "metadata": {
    "colab": {
      "provenance": [],
      "authorship_tag": "ABX9TyNHLEXso2bEy2Jsgar2aD/D",
      "include_colab_link": true
    },
    "kernelspec": {
      "name": "python3",
      "display_name": "Python 3"
    },
    "language_info": {
      "name": "python"
    }
  },
  "cells": [
    {
      "cell_type": "markdown",
      "metadata": {
        "id": "view-in-github",
        "colab_type": "text"
      },
      "source": [
        "<a href=\"https://colab.research.google.com/github/mohammedmudassirhussain/2216168_AIML_BOOTCAMP_2023/blob/main/assignment_Q_7_to_17.ipynb\" target=\"_parent\"><img src=\"https://colab.research.google.com/assets/colab-badge.svg\" alt=\"Open In Colab\"/></a>"
      ]
    },
    {
      "cell_type": "code",
      "source": [
        "#7\n",
        "#arithmetic operators\n",
        "a=10\n",
        "b=5\n",
        "print(a+b)\n",
        "print(a-b)\n",
        "print(a*b)\n",
        "print(a/b)\n",
        "print(a//b)\n",
        "print(a**b)\n",
        "print(a&b)"
      ],
      "metadata": {
        "colab": {
          "base_uri": "https://localhost:8080/"
        },
        "id": "7mJfElLGDd7_",
        "outputId": "7aa1749d-8242-47da-e93e-706ff5e1c69c"
      },
      "execution_count": 23,
      "outputs": [
        {
          "output_type": "stream",
          "name": "stdout",
          "text": [
            "15\n",
            "5\n",
            "50\n",
            "2.0\n",
            "2\n",
            "100000\n",
            "0\n"
          ]
        }
      ]
    },
    {
      "cell_type": "code",
      "source": [
        "#8\n",
        "#assignment operators\n",
        "a=10\n",
        "b=5\n",
        "c=a+b\n",
        "print(c)\n",
        "c-=a\n",
        "print(c)\n",
        "c=+b\n",
        "print(c)\n"
      ],
      "metadata": {
        "colab": {
          "base_uri": "https://localhost:8080/"
        },
        "id": "NeWKXKOrHfRk",
        "outputId": "b984c491-d6dc-4f82-8b07-4ea859ef96c5"
      },
      "execution_count": 27,
      "outputs": [
        {
          "output_type": "stream",
          "name": "stdout",
          "text": [
            "15\n",
            "5\n",
            "5\n"
          ]
        }
      ]
    },
    {
      "cell_type": "code",
      "source": [
        "#9\n",
        "#comparision operators\n",
        "a=10\n",
        "b=5\n",
        "print(a==b)\n",
        "print(a<=b)\n",
        "print(a>=b)\n",
        "print(a<<b)\n",
        "print(a>>b)\n",
        "print(a!=b)"
      ],
      "metadata": {
        "colab": {
          "base_uri": "https://localhost:8080/"
        },
        "id": "wx_j8cW8DjwR",
        "outputId": "b8b14ea0-822b-410c-a2c4-cac7436f4257"
      },
      "execution_count": 19,
      "outputs": [
        {
          "output_type": "stream",
          "name": "stdout",
          "text": [
            "False\n",
            "False\n",
            "True\n",
            "320\n",
            "0\n",
            "True\n"
          ]
        }
      ]
    },
    {
      "cell_type": "code",
      "source": [
        "#10\n",
        "#logical operators\n",
        "x=\"true\"\n",
        "y=\"false\"\n",
        "print(\"x and y is:\",x and y)\n",
        "print(\"x or y is:\",x or y)\n",
        "print(\"x not y is:\", not y)"
      ],
      "metadata": {
        "colab": {
          "base_uri": "https://localhost:8080/"
        },
        "id": "NmontG4lDjyq",
        "outputId": "7df83ff6-9253-4131-a5f9-e3c70f86faff"
      },
      "execution_count": 28,
      "outputs": [
        {
          "output_type": "stream",
          "name": "stdout",
          "text": [
            "x and y is: false\n",
            "x or y is: true\n",
            "x not y is: False\n"
          ]
        }
      ]
    },
    {
      "cell_type": "code",
      "source": [
        "#11\n",
        "#bitwise operators\n",
        "a=10\n",
        "b=15\n",
        "print(a&b)#and\n",
        "print(a|b)#or\n",
        "print(-a)#not\n",
        "print(a^b)#xor\n",
        "print(a>>3)#right shift\n",
        "print(a<<b)#left shift"
      ],
      "metadata": {
        "colab": {
          "base_uri": "https://localhost:8080/"
        },
        "id": "d18-9v3JIcH1",
        "outputId": "1a2d0018-f19c-4b0c-a9f1-b0c5a12b406b"
      },
      "execution_count": 40,
      "outputs": [
        {
          "output_type": "stream",
          "name": "stdout",
          "text": [
            "10\n",
            "15\n",
            "-10\n",
            "5\n",
            "1\n",
            "327680\n"
          ]
        }
      ]
    },
    {
      "cell_type": "code",
      "source": [
        "#12\n",
        "#membership operators\n",
        "x=\"hello worls\"\n",
        "print(\"w\"in x)\n",
        "print(\"a\"in x)"
      ],
      "metadata": {
        "colab": {
          "base_uri": "https://localhost:8080/"
        },
        "id": "QY5T84UbDj1C",
        "outputId": "d1719de2-0f3c-4076-af9e-24f4e8aa7955"
      },
      "execution_count": 22,
      "outputs": [
        {
          "output_type": "stream",
          "name": "stdout",
          "text": [
            "True\n",
            "False\n"
          ]
        }
      ]
    },
    {
      "cell_type": "code",
      "source": [
        "#13\n",
        "#identity operators\n",
        "x1=5\n",
        "y1=10\n",
        "x2=\"hello\"\n",
        "y2=\"world\"\n",
        "x3=[1,2,3]\n",
        "y3=[1,2,3]\n",
        "print(x1 is not y1)\n",
        "\n",
        "print(x3 is not y3)\n",
        "\n",
        "print(x3 is  y3)"
      ],
      "metadata": {
        "colab": {
          "base_uri": "https://localhost:8080/"
        },
        "id": "aYd9ByQEDj8G",
        "outputId": "09b75d07-5167-451c-f820-c785c6de089f"
      },
      "execution_count": 21,
      "outputs": [
        {
          "output_type": "stream",
          "name": "stdout",
          "text": [
            "True\n",
            "True\n",
            "False\n"
          ]
        }
      ]
    },
    {
      "cell_type": "code",
      "source": [
        "#14\n",
        "#negative indexing and slicing of lists\n",
        "a=['apple','banana','orange','cherry','mango','custard apple']\n",
        "print(a[0])#using index\n",
        "print(a[5])\n",
        "print(a[-1])\n",
        "print(a[-2])\n",
        "print(a[2:5])#from 2 nd index\n",
        "print(a[-1:-5])\n",
        "print(a[-5:-2])\n",
        "print(a[:4])\n",
        "print(a[0:4])"
      ],
      "metadata": {
        "colab": {
          "base_uri": "https://localhost:8080/"
        },
        "id": "5j-paRklIgR8",
        "outputId": "2157392e-5cfa-45e5-82bd-22d55154f96a"
      },
      "execution_count": 38,
      "outputs": [
        {
          "output_type": "stream",
          "name": "stdout",
          "text": [
            "apple\n",
            "custard apple\n",
            "custard apple\n",
            "mango\n",
            "['orange', 'cherry', 'mango']\n",
            "[]\n",
            "['banana', 'orange', 'cherry']\n",
            "['apple', 'banana', 'orange', 'cherry']\n",
            "['apple', 'banana', 'orange', 'cherry']\n"
          ]
        }
      ]
    },
    {
      "cell_type": "code",
      "source": [
        "#gives ascii values\n",
        "x=str(input(\"enter\"))\n",
        "print(ord(x))"
      ],
      "metadata": {
        "colab": {
          "base_uri": "https://localhost:8080/"
        },
        "id": "lRFvxg0UDkF3",
        "outputId": "cbaaa207-a1df-4873-da8c-fd9d6d210aac"
      },
      "execution_count": 2,
      "outputs": [
        {
          "output_type": "stream",
          "name": "stdout",
          "text": [
            "entera\n",
            "97\n"
          ]
        }
      ]
    },
    {
      "cell_type": "code",
      "source": [
        "#15\n",
        "print(\"A series of character designated as one object known as a string\"[::-1][4::3])\n",
        "print(\"-----------\")\n",
        "print(\"welcome to python training program\"[3:10][::-1])"
      ],
      "metadata": {
        "colab": {
          "base_uri": "https://localhost:8080/"
        },
        "id": "4GncskijIzPV",
        "outputId": "aec9cf87-d499-42df-e796-abe81f9ca947"
      },
      "execution_count": 16,
      "outputs": [
        {
          "output_type": "stream",
          "name": "stdout",
          "text": [
            "taawkcbe  tgerca  is\n",
            "-----------\n",
            "ot emoc\n"
          ]
        }
      ]
    },
    {
      "cell_type": "code",
      "source": [
        "#16\n",
        "p_phrase=\"was it a car or a cat i saw\"\n",
        "print(p_phrase.upper())"
      ],
      "metadata": {
        "colab": {
          "base_uri": "https://localhost:8080/"
        },
        "id": "6a3LKZEDEKrA",
        "outputId": "22219aa2-feba-47af-aeb8-821a95110e2e"
      },
      "execution_count": 3,
      "outputs": [
        {
          "output_type": "stream",
          "name": "stdout",
          "text": [
            "WAS IT A CAR OR A CAT I SAW\n"
          ]
        }
      ]
    },
    {
      "cell_type": "code",
      "source": [
        "#17\n",
        "x=int(input(\"\"))\n",
        "y=2*x\n",
        "print(x*'z'+y*'o')"
      ],
      "metadata": {
        "colab": {
          "base_uri": "https://localhost:8080/"
        },
        "id": "8x6ixzcXEK4n",
        "outputId": "37e50f89-8df5-43eb-da65-f23d3614bd1f"
      },
      "execution_count": 15,
      "outputs": [
        {
          "output_type": "stream",
          "name": "stdout",
          "text": [
            "5\n",
            "zzzzzoooooooooo\n"
          ]
        }
      ]
    }
  ]
}