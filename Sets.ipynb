{
  "nbformat": 4,
  "nbformat_minor": 0,
  "metadata": {
    "colab": {
      "provenance": [],
      "authorship_tag": "ABX9TyOELzZFdP3iajxWE6ZFBsOM",
      "include_colab_link": true
    },
    "kernelspec": {
      "name": "python3",
      "display_name": "Python 3"
    },
    "language_info": {
      "name": "python"
    }
  },
  "cells": [
    {
      "cell_type": "markdown",
      "metadata": {
        "id": "view-in-github",
        "colab_type": "text"
      },
      "source": [
        "<a href=\"https://colab.research.google.com/github/mohammedmudassirhussain/2216168_AIML_BOOTCAMP_2023/blob/main/Sets.ipynb\" target=\"_parent\"><img src=\"https://colab.research.google.com/assets/colab-badge.svg\" alt=\"Open In Colab\"/></a>"
      ]
    },
    {
      "cell_type": "code",
      "execution_count": null,
      "metadata": {
        "id": "U2hTLaB4COAY"
      },
      "outputs": [],
      "source": [
        "#sets\n",
        "my_set={1,2,3,4,5,6,7}\n",
        "my_set1={1,7.0,\"mudassir\"}\n",
        "\n",
        "l=[1,2,3,4,5,6,7]\n",
        "print(l)\n",
        "my_set2=set(l)\n",
        "print(my_set2)"
      ]
    },
    {
      "cell_type": "code",
      "source": [
        "\n",
        "#set methods\n",
        "my_set.add(9)\n",
        "print(my_set)\n",
        "my_set.update([11,13])\n",
        "print(my_set)\n",
        "my_set.discard(9)\n",
        "print(my_set)\n",
        "my_set.remove(5)\n",
        "print(my_set)\n"
      ],
      "metadata": {
        "id": "EI0HYfMYCVui"
      },
      "execution_count": null,
      "outputs": []
    },
    {
      "cell_type": "code",
      "source": [
        "#set operations\n",
        "#union\n",
        "a={1,2,3,4,5,6,7,8,9}\n",
        "b={4,5,6,1,2,3}\n",
        "print(a|b)\n",
        "print(a.union(b))\n",
        "print(b.union(a))\n",
        "#intersection\n",
        "print(a&b)\n",
        "print(a.intersection(b))\n",
        "print(b.intersection(a))\n",
        "#difference\n",
        "print(a-b)\n",
        "print(a.difference(b))\n",
        "print(b-a)\n",
        "print(b.difference(a))"
      ],
      "metadata": {
        "id": "nsKTfocsCVxA"
      },
      "execution_count": null,
      "outputs": []
    }
  ]
}