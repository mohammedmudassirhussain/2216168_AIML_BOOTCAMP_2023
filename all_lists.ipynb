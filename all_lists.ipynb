{
  "nbformat": 4,
  "nbformat_minor": 0,
  "metadata": {
    "colab": {
      "provenance": [],
      "authorship_tag": "ABX9TyMdYOti7x74R3hSoLRwG5dH",
      "include_colab_link": true
    },
    "kernelspec": {
      "name": "python3",
      "display_name": "Python 3"
    },
    "language_info": {
      "name": "python"
    }
  },
  "cells": [
    {
      "cell_type": "markdown",
      "metadata": {
        "id": "view-in-github",
        "colab_type": "text"
      },
      "source": [
        "<a href=\"https://colab.research.google.com/github/mohammedmudassirhussain/2216168_AIML_BOOTCAMP_2023/blob/main/all_lists.ipynb\" target=\"_parent\"><img src=\"https://colab.research.google.com/assets/colab-badge.svg\" alt=\"Open In Colab\"/></a>"
      ]
    },
    {
      "cell_type": "code",
      "execution_count": 2,
      "metadata": {
        "id": "7vAoVQ2m9hD3"
      },
      "outputs": [],
      "source": [
        "#lists\n",
        "my_list=[1,2,3,4,5,6,7]\n",
        "my_list1=[1,\"mudassir\",\"3.0\"]\n",
        "my_list3=[\"apple\",\"banana\",\"cherry\"]\n",
        "str=\"Gradstellar\"\n"
      ]
    },
    {
      "cell_type": "code",
      "source": [
        "# indexing\n",
        "print(my_list[-2])\n",
        "print(my_list[-1])\n",
        "#slicing in lists\n",
        "print(my_list[:3])\n",
        "print(str[0:7:2])"
      ],
      "metadata": {
        "colab": {
          "base_uri": "https://localhost:8080/"
        },
        "id": "KmxJiyrW9vdx",
        "outputId": "1fe2dfcc-8db8-4d81-8419-c749e62502fc"
      },
      "execution_count": 3,
      "outputs": [
        {
          "output_type": "stream",
          "name": "stdout",
          "text": [
            "6\n",
            "7\n",
            "[1, 2, 3]\n",
            "Gase\n"
          ]
        }
      ]
    },
    {
      "cell_type": "code",
      "source": [
        "#reverse\n",
        "print(str[::-1])\n",
        "#nested lists\n",
        "n_list=[\"dragonfruit\",my_list,my_list[1]]\n",
        "print(n_list[0][0:12])\n",
        "print(n_list[0][0:-2])\n"
      ],
      "metadata": {
        "colab": {
          "base_uri": "https://localhost:8080/"
        },
        "id": "e2XpVWGd_rXm",
        "outputId": "1bd34305-0303-4588-9dbf-f15bb9a6785e"
      },
      "execution_count": 4,
      "outputs": [
        {
          "output_type": "stream",
          "name": "stdout",
          "text": [
            "ralletsdarG\n",
            "dragonfruit\n",
            "dragonfru\n"
          ]
        }
      ]
    },
    {
      "cell_type": "code",
      "source": [
        "#list method\n",
        "my_list.append(5)\n",
        "print(my_list)\n",
        "l1=[4,2,5,9,7,3,24,49,6,4,4,9]\n",
        "print(l1.count(4))\n",
        "print(len(l1))\n",
        "l1.reverse\n",
        "print(l1)\n",
        "l1.sort\n",
        "print(l1)"
      ],
      "metadata": {
        "colab": {
          "base_uri": "https://localhost:8080/"
        },
        "id": "iGo_c9d1_raE",
        "outputId": "118ffd6d-92ff-4d8f-d2f7-f271aa2012bd"
      },
      "execution_count": 5,
      "outputs": [
        {
          "output_type": "stream",
          "name": "stdout",
          "text": [
            "[1, 2, 3, 4, 5, 6, 7, 5]\n",
            "3\n",
            "12\n",
            "[4, 2, 5, 9, 7, 3, 24, 49, 6, 4, 4, 9]\n",
            "[4, 2, 5, 9, 7, 3, 24, 49, 6, 4, 4, 9]\n"
          ]
        }
      ]
    },
    {
      "cell_type": "code",
      "source": [
        "#address\n",
        "print(id(l1))\n",
        "print(id(my_list))\n"
      ],
      "metadata": {
        "colab": {
          "base_uri": "https://localhost:8080/"
        },
        "id": "SOp1MGwD_3EO",
        "outputId": "1be613c0-7eef-4dc5-9fc2-ee26fe3d2df3"
      },
      "execution_count": 7,
      "outputs": [
        {
          "output_type": "stream",
          "name": "stdout",
          "text": [
            "139847120459072\n",
            "139847120442688\n"
          ]
        }
      ]
    }
  ]
}