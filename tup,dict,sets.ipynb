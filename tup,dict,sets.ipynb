{
  "nbformat": 4,
  "nbformat_minor": 0,
  "metadata": {
    "colab": {
      "provenance": [],
      "authorship_tag": "ABX9TyODLpfuEl7KjDRGwKeX5J1H",
      "include_colab_link": true
    },
    "kernelspec": {
      "name": "python3",
      "display_name": "Python 3"
    },
    "language_info": {
      "name": "python"
    }
  },
  "cells": [
    {
      "cell_type": "markdown",
      "metadata": {
        "id": "view-in-github",
        "colab_type": "text"
      },
      "source": [
        "<a href=\"https://colab.research.google.com/github/mohammedmudassirhussain/2216168_AIML_BOOTCAMP_2023/blob/main/tup%2Cdict%2Csets.ipynb\" target=\"_parent\"><img src=\"https://colab.research.google.com/assets/colab-badge.svg\" alt=\"Open In Colab\"/></a>"
      ]
    },
    {
      "cell_type": "code",
      "source": [
        "my_tup=(1,2,3,4,5)\n",
        "my_tup1=(\"hii\",7.0,7)\n",
        "n_tup=(\"HELLO\",my_tup,my_tup1)\n",
        "print(n_tup[-1][-1])"
      ],
      "metadata": {
        "colab": {
          "base_uri": "https://localhost:8080/"
        },
        "id": "ZMZxp_AGk5vx",
        "outputId": "92b2e607-0f22-40a0-cbc4-eb31d8e8ad6d"
      },
      "execution_count": null,
      "outputs": [
        {
          "output_type": "stream",
          "name": "stdout",
          "text": [
            "7\n"
          ]
        }
      ]
    },
    {
      "cell_type": "code",
      "source": [
        "#Tuple Methods\n",
        "print(my_tup.count(2))\n",
        "print(my_tup.index(2))\n",
        "\n",
        "print(max(my_tup))\n",
        "print(min(my_tup))\n",
        "print(len(my_tup))"
      ],
      "metadata": {
        "colab": {
          "base_uri": "https://localhost:8080/"
        },
        "id": "y8ahDv34sFfc",
        "outputId": "406c531e-11ce-4516-c4d9-dd1e2aa26f1d"
      },
      "execution_count": null,
      "outputs": [
        {
          "output_type": "stream",
          "name": "stdout",
          "text": [
            "1\n",
            "1\n",
            "5\n",
            "1\n",
            "5\n"
          ]
        }
      ]
    },
    {
      "cell_type": "code",
      "source": [
        "#sets\n",
        "my_set={1,2,3,4,5,6,7}\n",
        "my_set1={1,7.0,\"mudassir\"}\n",
        "\n",
        "l=[1,2,3,4,5,6,7]\n",
        "print(l)\n",
        "my_set2=set(l)\n",
        "print(my_set2)"
      ],
      "metadata": {
        "colab": {
          "base_uri": "https://localhost:8080/"
        },
        "id": "j3XKqY1lrZgp",
        "outputId": "8077451e-507d-4bcd-8caa-50d6ee23a885"
      },
      "execution_count": null,
      "outputs": [
        {
          "output_type": "stream",
          "name": "stdout",
          "text": [
            "[1, 2, 3, 4, 5, 6, 7]\n",
            "{1, 2, 3, 4, 5, 6, 7}\n"
          ]
        }
      ]
    },
    {
      "cell_type": "code",
      "source": [
        "\n",
        "#set methods\n",
        "my_set.add(9)\n",
        "print(my_set)\n",
        "my_set.update([11,13])\n",
        "print(my_set)\n",
        "my_set.discard(9)\n",
        "print(my_set)\n",
        "my_set.remove(5)\n",
        "print(my_set)\n"
      ],
      "metadata": {
        "colab": {
          "base_uri": "https://localhost:8080/"
        },
        "id": "H36ENqtStG8U",
        "outputId": "c8a708f6-6c84-4148-926a-4b141d85710a"
      },
      "execution_count": null,
      "outputs": [
        {
          "output_type": "stream",
          "name": "stdout",
          "text": [
            "{1, 2, 3, 4, 5, 6, 7, 9, 11, 13}\n",
            "{1, 2, 3, 4, 5, 6, 7, 9, 11, 13}\n",
            "{1, 2, 3, 4, 5, 6, 7, 11, 13}\n",
            "{1, 2, 3, 4, 6, 7, 11, 13}\n"
          ]
        }
      ]
    },
    {
      "cell_type": "code",
      "source": [
        "#set operations\n",
        "#union\n",
        "a={1,2,3,4,5,6,7,8,9}\n",
        "b={4,5,6,1,2,3}\n",
        "print(a|b)\n",
        "print(a.union(b))\n",
        "print(b.union(a))\n",
        "#intersection\n",
        "print(a&b)\n",
        "print(a.intersection(b))\n",
        "print(b.intersection(a))\n",
        "#difference\n",
        "print(a-b)\n",
        "print(a.difference(b))\n",
        "print(b-a)\n",
        "print(b.difference(a))"
      ],
      "metadata": {
        "colab": {
          "base_uri": "https://localhost:8080/"
        },
        "id": "pvh_1kMoxL_4",
        "outputId": "709f3fbb-f48c-4a03-ae30-ae47d20db20a"
      },
      "execution_count": null,
      "outputs": [
        {
          "output_type": "stream",
          "name": "stdout",
          "text": [
            "{1, 2, 3, 4, 5, 6, 7, 8, 9}\n",
            "{1, 2, 3, 4, 5, 6, 7, 8, 9}\n",
            "{1, 2, 3, 4, 5, 6, 7, 8, 9}\n",
            "{1, 2, 3, 4, 5, 6}\n",
            "{1, 2, 3, 4, 5, 6}\n",
            "{1, 2, 3, 4, 5, 6}\n",
            "{8, 9, 7}\n",
            "{8, 9, 7}\n",
            "set()\n",
            "set()\n"
          ]
        }
      ]
    },
    {
      "cell_type": "code",
      "source": [
        "#dictionaries\n",
        "\n",
        "my_dict={\"name\":\"gradstellar\",101:\"english\"}\n",
        "print(my_dict[\"name\"])\n",
        "print(my_dict.keys())\n",
        "print(my_dict.keys())\n",
        "print(my_dict.values())\n",
        "print(my_dict.get(\"name\"))\n",
        "print(my_dict.get(101))"
      ],
      "metadata": {
        "colab": {
          "base_uri": "https://localhost:8080/"
        },
        "id": "hFvUaxASyPrw",
        "outputId": "04d75a9f-836d-470f-a111-167ff8440c4f"
      },
      "execution_count": null,
      "outputs": [
        {
          "output_type": "stream",
          "name": "stdout",
          "text": [
            "gradstellar\n",
            "dict_keys(['name', 101])\n",
            "dict_keys(['name', 101])\n",
            "dict_values(['gradstellar', 'english'])\n",
            "gradstellar\n",
            "english\n"
          ]
        }
      ]
    }
  ]
}