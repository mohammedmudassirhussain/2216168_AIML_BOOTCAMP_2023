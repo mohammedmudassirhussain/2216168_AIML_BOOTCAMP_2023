{
  "nbformat": 4,
  "nbformat_minor": 0,
  "metadata": {
    "colab": {
      "provenance": [],
      "authorship_tag": "ABX9TyM03o21TP8+du6NgRqGFqPt",
      "include_colab_link": true
    },
    "kernelspec": {
      "name": "python3",
      "display_name": "Python 3"
    },
    "language_info": {
      "name": "python"
    }
  },
  "cells": [
    {
      "cell_type": "markdown",
      "metadata": {
        "id": "view-in-github",
        "colab_type": "text"
      },
      "source": [
        "<a href=\"https://colab.research.google.com/github/mohammedmudassirhussain/2216168_AIML_BOOTCAMP_2023/blob/main/DAY_4.ipynb\" target=\"_parent\"><img src=\"https://colab.research.google.com/assets/colab-badge.svg\" alt=\"Open In Colab\"/></a>"
      ]
    },
    {
      "cell_type": "code",
      "execution_count": 20,
      "metadata": {
        "colab": {
          "base_uri": "https://localhost:8080/"
        },
        "id": "wHjmnoF7awV_",
        "outputId": "d9488b27-1b74-4055-e01c-11825e006ffc"
      },
      "outputs": [
        {
          "name": "stdout",
          "output_type": "stream",
          "text": [
            "is true\n",
            "100\n",
            "False\n",
            "enter age0\n"
          ]
        }
      ],
      "source": [
        "#decision Making:\n",
        "\n",
        "\n",
        "#if statement\n",
        "var=100\n",
        "if var>0:\n",
        "  print(\"is true\")\n",
        "  print(var)\n",
        "  #if -- else statement\n",
        "  var=-1\n",
        "  if var>0:\n",
        "    print(\"true\")\n",
        "  else:\n",
        "    print(\"False\")\n",
        "#nested if statement\n",
        "age=int(input(\"enter age\"))\n",
        "if age > 0:\n",
        "  if age>0 and age<=2:\n",
        "    print(\"Free ticket\")\n",
        "  elif age>2 and age<15:\n",
        "      print(\"Half ticket\")\n",
        "  elif age>=15 and age<60:\n",
        "      print(\"Full Ticket\")\n",
        "  elif age >=60:\n",
        "      print(\"dicounted ticket\")\n",
        "\n"
      ]
    },
    {
      "cell_type": "code",
      "source": [
        "#loops\n",
        "numbers=[1,2,3,4,5,6,7,8,9,10]\n",
        "for i in range(1,11):\n",
        "  print(i)\n",
        "sum=0\n",
        "for val in numbers:\n",
        "  sum=sum+val\n",
        "print(\"the sum is\",sum)\n",
        "#printing odd numbers\n",
        "for i in range(1,11,2):\n",
        "  print(i)\n"
      ],
      "metadata": {
        "colab": {
          "base_uri": "https://localhost:8080/"
        },
        "id": "tJsHu0pTfKXc",
        "outputId": "81324157-8974-4157-9730-fc577ce00915"
      },
      "execution_count": 38,
      "outputs": [
        {
          "output_type": "stream",
          "name": "stdout",
          "text": [
            "1\n",
            "2\n",
            "3\n",
            "4\n",
            "5\n",
            "6\n",
            "7\n",
            "8\n",
            "9\n",
            "10\n",
            "the sum is 55\n",
            "1\n",
            "3\n",
            "5\n",
            "7\n",
            "9\n",
            "1\n",
            "2\n",
            "3\n",
            "4\n",
            "5\n",
            "6\n",
            "7\n",
            "8\n",
            "9\n",
            "10\n"
          ]
        }
      ]
    },
    {
      "cell_type": "code",
      "source": [
        "#while loop\n",
        "count=1\n",
        "while(count<11):\n",
        "  print(count)\n",
        "  count=count+1"
      ],
      "metadata": {
        "colab": {
          "base_uri": "https://localhost:8080/"
        },
        "id": "IMNMhc4yinnF",
        "outputId": "acaa4cc6-4e3d-4196-eec4-292663d70734"
      },
      "execution_count": 40,
      "outputs": [
        {
          "output_type": "stream",
          "name": "stdout",
          "text": [
            "1\n",
            "2\n",
            "3\n",
            "4\n",
            "5\n",
            "6\n",
            "7\n",
            "8\n",
            "9\n",
            "10\n"
          ]
        }
      ]
    },
    {
      "cell_type": "code",
      "source": [
        "#nested loops\n",
        "\n",
        "x=[[1,2,3],[4,5,6],[7,8,9]]\n",
        "y=[[2,4,6],[4,7,9],[3,6,9]]\n",
        "\n",
        "res=[[0,0,0],[0,0,0],[0,0,0]]\n",
        "for i in range(len(x)):\n",
        "  for j in range(len(x[0])):\n",
        "    res[i][j]=x[i][j]+y[i][j]\n",
        "for r in res:\n",
        "  print(r)\n",
        "\n"
      ],
      "metadata": {
        "colab": {
          "base_uri": "https://localhost:8080/"
        },
        "id": "toHV4rVljiiZ",
        "outputId": "3050aeaa-c6b4-4ba2-8d64-14642b264278"
      },
      "execution_count": 61,
      "outputs": [
        {
          "output_type": "stream",
          "name": "stdout",
          "text": [
            "[3, 6, 9]\n",
            "[8, 12, 15]\n",
            "[10, 14, 18]\n"
          ]
        }
      ]
    },
    {
      "cell_type": "code",
      "source": [
        "#nested while loop\n",
        "num=int(input(\"Enter untill which table you need\"))\n",
        "i=1\n",
        "while(i<=num):\n",
        "  print(f\"table {i}\")\n",
        "  j=1\n",
        "  while(j<=10):\n",
        "    print(f\"{i}*{j}={i*j}\")\n",
        "    j=j+1\n",
        "  print(\"----------------\")\n",
        "  i=i+1"
      ],
      "metadata": {
        "colab": {
          "base_uri": "https://localhost:8080/"
        },
        "id": "i3Zahov1m4X4",
        "outputId": "48a2c4d6-f2da-4ef3-e515-65a7e0e38655"
      },
      "execution_count": 63,
      "outputs": [
        {
          "output_type": "stream",
          "name": "stdout",
          "text": [
            "Enter untill which table you need5\n",
            "table 1\n",
            "1*1=1\n",
            "1*2=2\n",
            "1*3=3\n",
            "1*4=4\n",
            "1*5=5\n",
            "1*6=6\n",
            "1*7=7\n",
            "1*8=8\n",
            "1*9=9\n",
            "1*10=10\n",
            "----------------\n",
            "table 2\n",
            "2*1=2\n",
            "2*2=4\n",
            "2*3=6\n",
            "2*4=8\n",
            "2*5=10\n",
            "2*6=12\n",
            "2*7=14\n",
            "2*8=16\n",
            "2*9=18\n",
            "2*10=20\n",
            "----------------\n",
            "table 3\n",
            "3*1=3\n",
            "3*2=6\n",
            "3*3=9\n",
            "3*4=12\n",
            "3*5=15\n",
            "3*6=18\n",
            "3*7=21\n",
            "3*8=24\n",
            "3*9=27\n",
            "3*10=30\n",
            "----------------\n",
            "table 4\n",
            "4*1=4\n",
            "4*2=8\n",
            "4*3=12\n",
            "4*4=16\n",
            "4*5=20\n",
            "4*6=24\n",
            "4*7=28\n",
            "4*8=32\n",
            "4*9=36\n",
            "4*10=40\n",
            "----------------\n",
            "table 5\n",
            "5*1=5\n",
            "5*2=10\n",
            "5*3=15\n",
            "5*4=20\n",
            "5*5=25\n",
            "5*6=30\n",
            "5*7=35\n",
            "5*8=40\n",
            "5*9=45\n",
            "5*10=50\n",
            "----------------\n"
          ]
        }
      ]
    },
    {
      "cell_type": "code",
      "source": [
        "#control statements\n",
        "\n",
        "#break\n",
        "for i in \"python\":\n",
        "  if i==\"h\":\n",
        "    break\n",
        "  print(\"current letter\",i)\n",
        "print(\"______________________\")\n",
        "#continue\n",
        "for i in \"python\":\n",
        "  if i==\"h\":\n",
        "    continue\n",
        "  print(\"current letter\",i)\n",
        "print(\"______________________\")\n",
        "\n",
        "#pass\n",
        "for i in \"python\":\n",
        "  if i==\"h\":\n",
        "    pass\n",
        "    print(\"this is a pass block\")\n",
        "  print(\"current letter\",i)"
      ],
      "metadata": {
        "colab": {
          "base_uri": "https://localhost:8080/"
        },
        "id": "OxToDFiDoNJ9",
        "outputId": "1c728a0a-27a1-4a6d-9dce-62904f7bb3af"
      },
      "execution_count": 71,
      "outputs": [
        {
          "output_type": "stream",
          "name": "stdout",
          "text": [
            "current letter p\n",
            "current letter y\n",
            "current letter t\n",
            "______________________\n",
            "current letter p\n",
            "current letter y\n",
            "current letter t\n",
            "current letter o\n",
            "current letter n\n",
            "______________________\n",
            "current letter p\n",
            "current letter y\n",
            "current letter t\n",
            "this is a pass block\n",
            "current letter h\n",
            "current letter o\n",
            "current letter n\n"
          ]
        }
      ]
    },
    {
      "cell_type": "code",
      "source": [
        "#Functions\n",
        "def greet(name):\n",
        "  '''this function greets a person'''\n",
        "  print(\"hello, \\t \"+name+  \"\\t good morning\")\n",
        "greet(\"mudassir\")"
      ],
      "metadata": {
        "colab": {
          "base_uri": "https://localhost:8080/"
        },
        "id": "TI-RxP9fqKs8",
        "outputId": "87f202fa-bbb6-4646-ca2e-4d6e5efd942b"
      },
      "execution_count": 74,
      "outputs": [
        {
          "output_type": "stream",
          "name": "stdout",
          "text": [
            "hello, \t mudassir\t good morning\n"
          ]
        }
      ]
    },
    {
      "cell_type": "code",
      "source": [
        "#default\n",
        "def A(a,b=1,c=2):\n",
        "  return a+b+c\n",
        "print(A(3))\n",
        "print(A(4,4,4))"
      ],
      "metadata": {
        "colab": {
          "base_uri": "https://localhost:8080/"
        },
        "id": "HnTtZS2irmtR",
        "outputId": "bb798f49-ab40-43ea-86e0-f11b085ae768"
      },
      "execution_count": 78,
      "outputs": [
        {
          "output_type": "stream",
          "name": "stdout",
          "text": [
            "6\n",
            "12\n"
          ]
        }
      ]
    },
    {
      "cell_type": "code",
      "source": [
        "#key word\n",
        "def A(a,b=1,c=2):\n",
        "  return a+b+c\n",
        "print(A(a=2,b=3))\n",
        "print(A(a=0,b=3,c=1))"
      ],
      "metadata": {
        "colab": {
          "base_uri": "https://localhost:8080/"
        },
        "id": "x9ILMqdysL2o",
        "outputId": "aa4eaf09-bbef-45a0-ec82-e3eb12174a42"
      },
      "execution_count": 86,
      "outputs": [
        {
          "output_type": "stream",
          "name": "stdout",
          "text": [
            "7\n",
            "4\n"
          ]
        }
      ]
    },
    {
      "cell_type": "code",
      "source": [
        "#Positions\n",
        "def A(a,b,c):\n",
        "  return a+b+c\n",
        "print(A(10,20,30))"
      ],
      "metadata": {
        "colab": {
          "base_uri": "https://localhost:8080/"
        },
        "id": "QwLxsc4UsL47",
        "outputId": "5a9cc7cf-8ec0-46ad-cfe8-ce3d3fa47d17"
      },
      "execution_count": 87,
      "outputs": [
        {
          "output_type": "stream",
          "name": "stdout",
          "text": [
            "60\n"
          ]
        }
      ]
    },
    {
      "cell_type": "code",
      "source": [
        "#arbitrary positional\n",
        "def add_num(*n):\n",
        "  print((sum(n)))\n",
        "add_num(1,2,3,4,5,6,7,8,9,10)\n",
        "  #return n"
      ],
      "metadata": {
        "colab": {
          "base_uri": "https://localhost:8080/",
          "height": 130
        },
        "id": "zvppkf5usL7n",
        "outputId": "6a1d06b1-8611-49e2-d2e6-8d7ece3dec03"
      },
      "execution_count": 104,
      "outputs": [
        {
          "output_type": "error",
          "ename": "SyntaxError",
          "evalue": "ignored",
          "traceback": [
            "\u001b[0;36m  File \u001b[0;32m\"<ipython-input-104-8bf5f5d69af0>\"\u001b[0;36m, line \u001b[0;32m3\u001b[0m\n\u001b[0;31m    return *n\u001b[0m\n\u001b[0m           ^\u001b[0m\n\u001b[0;31mSyntaxError\u001b[0m\u001b[0;31m:\u001b[0m can't use starred expression here\n"
          ]
        }
      ]
    },
    {
      "cell_type": "code",
      "source": [
        "# arbritary keywords\n",
        "def key_args(**kwargs):\n",
        "  return kwargs\n",
        "myd=key_args(Apples=30,banana=40,cherries=50)\n",
        "print(myd[\"Apples\"])\n",
        "print(myd)"
      ],
      "metadata": {
        "colab": {
          "base_uri": "https://localhost:8080/"
        },
        "id": "cUnQO9tevBeo",
        "outputId": "aec17d36-b1cf-46dd-9fe8-c87b2aa63cb4"
      },
      "execution_count": 105,
      "outputs": [
        {
          "output_type": "stream",
          "name": "stdout",
          "text": [
            "30\n",
            "{'Apples': 30, 'banana': 40, 'cherries': 50}\n"
          ]
        }
      ]
    },
    {
      "cell_type": "code",
      "source": [
        "#higher order functions\n",
        "def shout(text):\n",
        "  return text.upper()\n",
        "\n",
        "def whisper(text):\n",
        "  return text.lower()\n",
        "def explain(func):\n",
        "  greet=func(\"HI IAM A HIGHER ORDER FUNCTION\")\n",
        "  print(greet)\n",
        "\n",
        "explain(shout)\n",
        "explain(whisper)"
      ],
      "metadata": {
        "colab": {
          "base_uri": "https://localhost:8080/"
        },
        "id": "TeKhHNDrwB7H",
        "outputId": "84757010-3267-4363-eb41-5c8e2e94c7cd"
      },
      "execution_count": 113,
      "outputs": [
        {
          "output_type": "stream",
          "name": "stdout",
          "text": [
            "HI IAM A HIGHER ORDER FUNCTION\n",
            "hi iam a higher order function\n"
          ]
        }
      ]
    }
  ]
}